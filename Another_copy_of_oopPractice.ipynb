{
  "nbformat": 4,
  "nbformat_minor": 0,
  "metadata": {
    "colab": {
      "provenance": [],
      "authorship_tag": "ABX9TyN9BmYZNBtunMBqEY2SFBTm",
      "include_colab_link": true
    },
    "kernelspec": {
      "name": "python3",
      "display_name": "Python 3"
    },
    "language_info": {
      "name": "python"
    }
  },
  "cells": [
    {
      "cell_type": "markdown",
      "metadata": {
        "id": "view-in-github",
        "colab_type": "text"
      },
      "source": [
        "<a href=\"https://colab.research.google.com/github/justicee-dev/Phase-2-Project/blob/main/Another_copy_of_oopPractice.ipynb\" target=\"_parent\"><img src=\"https://colab.research.google.com/assets/colab-badge.svg\" alt=\"Open In Colab\"/></a>"
      ]
    },
    {
      "cell_type": "code",
      "execution_count": null,
      "metadata": {
        "id": "-vPDFlrrB9sN"
      },
      "outputs": [],
      "source": [
        "class Person:\n",
        "  pass"
      ]
    },
    {
      "cell_type": "code",
      "source": [
        "class Person:\n",
        "  def __init__(self, height,weight,name):\n",
        "    self.height=height\n",
        "    self.weight=weight\n",
        "    self.name=name\n",
        "\n",
        "  def walk(self):\n",
        "    return \"i am walking\"\n",
        "  def run(self):\n",
        "    print(f\"{self.name} is running\")"
      ],
      "metadata": {
        "id": "SdRaGpa2Ebeg"
      },
      "execution_count": null,
      "outputs": []
    },
    {
      "cell_type": "code",
      "source": [
        "person1=Person(165,60,'maureen')\n",
        "person1.walk()"
      ],
      "metadata": {
        "colab": {
          "base_uri": "https://localhost:8080/",
          "height": 35
        },
        "id": "qnKaPtTqFaF7",
        "outputId": "2cfae654-d730-4931-bada-5e5639db536b"
      },
      "execution_count": null,
      "outputs": [
        {
          "output_type": "execute_result",
          "data": {
            "text/plain": [
              "'i am walking'"
            ],
            "application/vnd.google.colaboratory.intrinsic+json": {
              "type": "string"
            }
          },
          "metadata": {},
          "execution_count": 8
        }
      ]
    },
    {
      "cell_type": "code",
      "source": [
        "person2=Person(174,80,'joy')\n",
        "person2.run()"
      ],
      "metadata": {
        "colab": {
          "base_uri": "https://localhost:8080/"
        },
        "id": "DphINf1vGNzd",
        "outputId": "f4e49e5b-e423-491b-c93e-ced61309c45f"
      },
      "execution_count": null,
      "outputs": [
        {
          "output_type": "stream",
          "name": "stdout",
          "text": [
            "joy is running\n"
          ]
        }
      ]
    },
    {
      "cell_type": "code",
      "source": [
        "#polymorphism this is when function with the same name does different things in different classes either as an independent class or as a sub class"
      ],
      "metadata": {
        "id": "bPaOJ9R5UWsc"
      },
      "execution_count": null,
      "outputs": []
    },
    {
      "cell_type": "code",
      "source": [
        "#as an independent class\n",
        "class Dog():\n",
        "  pass"
      ],
      "metadata": {
        "id": "wq8qDcMJVG-H"
      },
      "execution_count": null,
      "outputs": []
    },
    {
      "cell_type": "code",
      "source": [
        "class Dog():\n",
        "  def __init__(self,name,breed):\n",
        "    self.name=name\n",
        "    self.breed=breed\n",
        "  def eat(self):\n",
        "      return \"i eat bones every day\"\n"
      ],
      "metadata": {
        "id": "6ZhaogRTVM-F"
      },
      "execution_count": null,
      "outputs": []
    },
    {
      "cell_type": "code",
      "source": [
        "dog1=Dog(\"kylie\",\"german shepherd\")\n",
        "dog1.eat()"
      ],
      "metadata": {
        "colab": {
          "base_uri": "https://localhost:8080/",
          "height": 35
        },
        "id": "q3qaFxShVvxd",
        "outputId": "f7b82885-90a1-4a21-ec39-9d32b998a28c"
      },
      "execution_count": null,
      "outputs": [
        {
          "output_type": "execute_result",
          "data": {
            "text/plain": [
              "'i eat bones every day'"
            ],
            "application/vnd.google.colaboratory.intrinsic+json": {
              "type": "string"
            }
          },
          "metadata": {},
          "execution_count": 9
        }
      ]
    },
    {
      "cell_type": "code",
      "source": [
        "class Cat():\n",
        "  pass"
      ],
      "metadata": {
        "id": "bnyfop49V5sw"
      },
      "execution_count": null,
      "outputs": []
    },
    {
      "cell_type": "code",
      "source": [
        "class Cat():\n",
        "  def __init__(self,name,age):\n",
        "    self.name=name\n",
        "    self.age=age\n",
        "\n",
        "  def eat(self):\n",
        "    return \"I eat chicken wings\""
      ],
      "metadata": {
        "id": "lTjd10FiV-hA"
      },
      "execution_count": null,
      "outputs": []
    },
    {
      "cell_type": "code",
      "source": [
        "cat1=Cat(\"doll\",2)\n",
        "cat1.eat()"
      ],
      "metadata": {
        "colab": {
          "base_uri": "https://localhost:8080/",
          "height": 35
        },
        "id": "q41lT5ghWdcU",
        "outputId": "bcfd67fe-71da-4c43-b33e-5b8deaafd236"
      },
      "execution_count": null,
      "outputs": [
        {
          "output_type": "execute_result",
          "data": {
            "text/plain": [
              "'I eat chicken wings'"
            ],
            "application/vnd.google.colaboratory.intrinsic+json": {
              "type": "string"
            }
          },
          "metadata": {},
          "execution_count": 15
        }
      ]
    },
    {
      "cell_type": "code",
      "source": [
        "#when used in inheritance"
      ],
      "metadata": {
        "id": "z89RUIOZXHvN"
      },
      "execution_count": null,
      "outputs": []
    },
    {
      "cell_type": "code",
      "source": [
        "class Animal():\n",
        "  pass"
      ],
      "metadata": {
        "id": "ra86EMmGXMMQ"
      },
      "execution_count": null,
      "outputs": []
    },
    {
      "cell_type": "code",
      "source": [
        "class Animal:\n",
        "  def __init__(self,name,age):\n",
        "    self.name=name\n",
        "    self.age=age\n",
        "\n",
        "  def speak(self):\n",
        "        return \"I make a sound\"\n",
        "\n"
      ],
      "metadata": {
        "id": "I7QiWYrbXRx3"
      },
      "execution_count": null,
      "outputs": []
    },
    {
      "cell_type": "code",
      "source": [
        "class Cat(Animal):\n",
        "  def __init__(self,name,age,color):\n",
        "    super().__init__(name,age)\n",
        "    self.name=name\n",
        "    self.age=age\n",
        "    self.color=color\n",
        "\n",
        "  def speak(self):\n",
        "    return \"I meow\""
      ],
      "metadata": {
        "id": "nLIzU0GuX_Zl"
      },
      "execution_count": null,
      "outputs": []
    },
    {
      "cell_type": "code",
      "source": [
        "cat1= Cat(\"ginger\",2,\"white\")\n",
        "cat1.speak()"
      ],
      "metadata": {
        "colab": {
          "base_uri": "https://localhost:8080/",
          "height": 35
        },
        "id": "LPGIfcP3Xn4L",
        "outputId": "6b145e36-7383-4277-e89e-7c8098b3a5bd"
      },
      "execution_count": null,
      "outputs": [
        {
          "output_type": "execute_result",
          "data": {
            "text/plain": [
              "'I meow'"
            ],
            "application/vnd.google.colaboratory.intrinsic+json": {
              "type": "string"
            }
          },
          "metadata": {},
          "execution_count": 32
        }
      ]
    },
    {
      "cell_type": "code",
      "source": [
        "class Dog(Animal):\n",
        "  def __init__(self,name,age,color,owner):\n",
        "    super().__init__(name,age)\n",
        "    self.name=name\n",
        "    self.age=age\n",
        "    self.color=color\n",
        "    self.owner=owner\n",
        "\n",
        "  def speak(self):\n",
        "        return \"Woof!\"\n"
      ],
      "metadata": {
        "id": "yh3GSGbhXbsi"
      },
      "execution_count": null,
      "outputs": []
    },
    {
      "cell_type": "code",
      "source": [
        "dog1=Dog(\"max\",3,\"ginger\",\"maureen\")\n",
        "dog1.speak()"
      ],
      "metadata": {
        "colab": {
          "base_uri": "https://localhost:8080/",
          "height": 35
        },
        "id": "25k4zb51cGza",
        "outputId": "2c37e5d7-6943-47ea-f56c-bcad8d855d53"
      },
      "execution_count": null,
      "outputs": [
        {
          "output_type": "execute_result",
          "data": {
            "text/plain": [
              "'Woof!'"
            ],
            "application/vnd.google.colaboratory.intrinsic+json": {
              "type": "string"
            }
          },
          "metadata": {},
          "execution_count": 38
        }
      ]
    }
  ]
}